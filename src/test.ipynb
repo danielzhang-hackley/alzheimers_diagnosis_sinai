{
 "cells": [
  {
   "cell_type": "code",
   "execution_count": 1,
   "metadata": {},
   "outputs": [],
   "source": [
    "import tensorflow as tf\n",
    "from tensorflow import keras\n",
    "from tensorflow.keras import layers"
   ]
  },
  {
   "cell_type": "code",
   "execution_count": 2,
   "metadata": {},
   "outputs": [],
   "source": [
    "inputs = keras.Input(shape=(28, 28, 1), name='input_layer')\n",
    "\n",
    "# Block-1\n",
    "x = layers.Conv2D(32, kernel_size=3, strides= 1, padding='same', name='conv_1')(inputs)\n",
    "x = layers.BatchNormalization(name='bn_1')(x)\n",
    "x = layers.LeakyReLU(name='lrelu_1')(x)\n",
    "    \n",
    "# Block-2\n",
    "x = layers.Conv2D(64, kernel_size=3, strides= 2, padding='same', name='conv_2')(x)\n",
    "x = layers.BatchNormalization(name='bn_2')(x)\n",
    "x = layers.LeakyReLU(name='lrelu_2')(x)\n",
    "    \n",
    "# Block-3\n",
    "x = layers.Conv2D(64, 3, 2, padding='same', name='conv_3')(x)\n",
    "x = layers.BatchNormalization(name='bn_3')(x)\n",
    "x = layers.LeakyReLU(name='lrelu_3')(x)\n",
    "\n",
    "# Block-4\n",
    "x = layers.Conv2D(64, 3, 1, padding='same', name='conv_4')(x)\n",
    "x = layers.BatchNormalization(name='bn_4')(x)\n",
    "x = layers.LeakyReLU(name='lrelu_4')(x)\n",
    "\n",
    "# Final Block\n",
    "flatten = layers.Flatten()(x)\n",
    "mean = layers.Dense(2, name='mean')(flatten)\n",
    "log_var = layers.Dense(2, name='log_var')(flatten)\n",
    "model = tf.keras.Model(inputs, (mean, log_var), name=\"Encoder\")\n"
   ]
  },
  {
   "cell_type": "code",
   "execution_count": 3,
   "metadata": {},
   "outputs": [
    {
     "name": "stdout",
     "output_type": "stream",
     "text": [
      "Model: \"Encoder\"\n",
      "__________________________________________________________________________________________________\n",
      " Layer (type)                   Output Shape         Param #     Connected to                     \n",
      "==================================================================================================\n",
      " input_layer (InputLayer)       [(None, 28, 28, 1)]  0           []                               \n",
      "                                                                                                  \n",
      " conv_1 (Conv2D)                (None, 28, 28, 32)   320         ['input_layer[0][0]']            \n",
      "                                                                                                  \n",
      " bn_1 (BatchNormalization)      (None, 28, 28, 32)   128         ['conv_1[0][0]']                 \n",
      "                                                                                                  \n",
      " lrelu_1 (LeakyReLU)            (None, 28, 28, 32)   0           ['bn_1[0][0]']                   \n",
      "                                                                                                  \n",
      " conv_2 (Conv2D)                (None, 14, 14, 64)   18496       ['lrelu_1[0][0]']                \n",
      "                                                                                                  \n",
      " bn_2 (BatchNormalization)      (None, 14, 14, 64)   256         ['conv_2[0][0]']                 \n",
      "                                                                                                  \n",
      " lrelu_2 (LeakyReLU)            (None, 14, 14, 64)   0           ['bn_2[0][0]']                   \n",
      "                                                                                                  \n",
      " conv_3 (Conv2D)                (None, 7, 7, 64)     36928       ['lrelu_2[0][0]']                \n",
      "                                                                                                  \n",
      " bn_3 (BatchNormalization)      (None, 7, 7, 64)     256         ['conv_3[0][0]']                 \n",
      "                                                                                                  \n",
      " lrelu_3 (LeakyReLU)            (None, 7, 7, 64)     0           ['bn_3[0][0]']                   \n",
      "                                                                                                  \n",
      " conv_4 (Conv2D)                (None, 7, 7, 64)     36928       ['lrelu_3[0][0]']                \n",
      "                                                                                                  \n",
      " bn_4 (BatchNormalization)      (None, 7, 7, 64)     256         ['conv_4[0][0]']                 \n",
      "                                                                                                  \n",
      " lrelu_4 (LeakyReLU)            (None, 7, 7, 64)     0           ['bn_4[0][0]']                   \n",
      "                                                                                                  \n",
      " flatten (Flatten)              (None, 3136)         0           ['lrelu_4[0][0]']                \n",
      "                                                                                                  \n",
      " mean (Dense)                   (None, 2)            6274        ['flatten[0][0]']                \n",
      "                                                                                                  \n",
      " log_var (Dense)                (None, 2)            6274        ['flatten[0][0]']                \n",
      "                                                                                                  \n",
      "==================================================================================================\n",
      "Total params: 106,116\n",
      "Trainable params: 105,668\n",
      "Non-trainable params: 448\n",
      "__________________________________________________________________________________________________\n"
     ]
    }
   ],
   "source": [
    "model.summary()"
   ]
  },
  {
   "cell_type": "code",
   "execution_count": 4,
   "metadata": {},
   "outputs": [
    {
     "data": {
      "text/plain": [
       "[2, 3]"
      ]
     },
     "execution_count": 4,
     "metadata": {},
     "output_type": "execute_result"
    }
   ],
   "source": [
    "x = [1, 2, 3]\n",
    "x[1:]"
   ]
  }
 ],
 "metadata": {
  "kernelspec": {
   "display_name": "venv",
   "language": "python",
   "name": "python3"
  },
  "language_info": {
   "codemirror_mode": {
    "name": "ipython",
    "version": 3
   },
   "file_extension": ".py",
   "mimetype": "text/x-python",
   "name": "python",
   "nbconvert_exporter": "python",
   "pygments_lexer": "ipython3",
   "version": "3.9.9"
  },
  "orig_nbformat": 4,
  "vscode": {
   "interpreter": {
    "hash": "772e58729639664bc7c39167d4bac503b22bfc07fa21a50b41389124601dcd2b"
   }
  }
 },
 "nbformat": 4,
 "nbformat_minor": 2
}
