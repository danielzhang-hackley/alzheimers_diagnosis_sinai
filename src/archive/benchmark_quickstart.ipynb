{
 "cells": [
  {
   "cell_type": "code",
   "execution_count": 1,
   "metadata": {},
   "outputs": [
    {
     "name": "stderr",
     "output_type": "stream",
     "text": [
      "2023-01-04 23:32:20.535610: W tensorflow/stream_executor/platform/default/dso_loader.cc:64] Could not load dynamic library 'libcudart.so.11.0'; dlerror: libcudart.so.11.0: cannot open shared object file: No such file or directory\n",
      "2023-01-04 23:32:20.535622: I tensorflow/stream_executor/cuda/cudart_stub.cc:29] Ignore above cudart dlerror if you do not have a GPU set up on your machine.\n"
     ]
    },
    {
     "name": "stdout",
     "output_type": "stream",
     "text": [
      "TensorFlow version: 2.9.1\n"
     ]
    }
   ],
   "source": [
    "import tensorflow as tf\n",
    "from tensorflow.keras import layers\n",
    "\n",
    "print(\"TensorFlow version:\", tf.__version__)\n"
   ]
  },
  {
   "cell_type": "code",
   "execution_count": 2,
   "metadata": {},
   "outputs": [],
   "source": [
    "mnist = tf.keras.datasets.mnist\n",
    "\n",
    "(x_train, y_train), (x_test, y_test) = mnist.load_data()\n",
    "x_train, x_test = x_train / 255.0, x_test / 255.0\n",
    "\n",
    "# Add a channels dimension\n",
    "x_train = x_train[..., tf.newaxis].astype(\"float32\")\n",
    "x_test = x_test[..., tf.newaxis].astype(\"float32\")\n"
   ]
  },
  {
   "cell_type": "code",
   "execution_count": 3,
   "metadata": {},
   "outputs": [
    {
     "name": "stderr",
     "output_type": "stream",
     "text": [
      "2023-01-04 23:32:21.987287: I tensorflow/stream_executor/cuda/cuda_gpu_executor.cc:975] successful NUMA node read from SysFS had negative value (-1), but there must be at least one NUMA node, so returning NUMA node zero\n",
      "2023-01-04 23:32:21.987574: W tensorflow/stream_executor/platform/default/dso_loader.cc:64] Could not load dynamic library 'libcudart.so.11.0'; dlerror: libcudart.so.11.0: cannot open shared object file: No such file or directory\n",
      "2023-01-04 23:32:21.987624: W tensorflow/stream_executor/platform/default/dso_loader.cc:64] Could not load dynamic library 'libcublas.so.11'; dlerror: libcublas.so.11: cannot open shared object file: No such file or directory\n",
      "2023-01-04 23:32:21.987659: W tensorflow/stream_executor/platform/default/dso_loader.cc:64] Could not load dynamic library 'libcublasLt.so.11'; dlerror: libcublasLt.so.11: cannot open shared object file: No such file or directory\n",
      "2023-01-04 23:32:21.987687: W tensorflow/stream_executor/platform/default/dso_loader.cc:64] Could not load dynamic library 'libcufft.so.10'; dlerror: libcufft.so.10: cannot open shared object file: No such file or directory\n",
      "2023-01-04 23:32:21.987717: W tensorflow/stream_executor/platform/default/dso_loader.cc:64] Could not load dynamic library 'libcurand.so.10'; dlerror: libcurand.so.10: cannot open shared object file: No such file or directory\n",
      "2023-01-04 23:32:21.987744: W tensorflow/stream_executor/platform/default/dso_loader.cc:64] Could not load dynamic library 'libcusolver.so.11'; dlerror: libcusolver.so.11: cannot open shared object file: No such file or directory\n",
      "2023-01-04 23:32:21.987771: W tensorflow/stream_executor/platform/default/dso_loader.cc:64] Could not load dynamic library 'libcusparse.so.11'; dlerror: libcusparse.so.11: cannot open shared object file: No such file or directory\n",
      "2023-01-04 23:32:21.987798: W tensorflow/stream_executor/platform/default/dso_loader.cc:64] Could not load dynamic library 'libcudnn.so.8'; dlerror: libcudnn.so.8: cannot open shared object file: No such file or directory\n",
      "2023-01-04 23:32:21.987803: W tensorflow/core/common_runtime/gpu/gpu_device.cc:1850] Cannot dlopen some GPU libraries. Please make sure the missing libraries mentioned above are installed properly if you would like to use GPU. Follow the guide at https://www.tensorflow.org/install/gpu for how to download and setup the required libraries for your platform.\n",
      "Skipping registering GPU devices...\n",
      "2023-01-04 23:32:21.988275: I tensorflow/core/platform/cpu_feature_guard.cc:193] This TensorFlow binary is optimized with oneAPI Deep Neural Network Library (oneDNN) to use the following CPU instructions in performance-critical operations:  AVX2 FMA\n",
      "To enable them in other operations, rebuild TensorFlow with the appropriate compiler flags.\n"
     ]
    }
   ],
   "source": [
    "train_ds = tf.data.Dataset.from_tensor_slices(\n",
    "        (x_train, y_train)).shuffle(10000).batch(32)\n",
    "\n",
    "test_ds = tf.data.Dataset.from_tensor_slices((x_test, y_test)).batch(32)\n"
   ]
  },
  {
   "cell_type": "code",
   "execution_count": 4,
   "metadata": {},
   "outputs": [],
   "source": [
    "class BaseDNN1(tf.keras.Model):\n",
    "    def __init__(self, node_counts, dropout_ratios=None, activation='relu'):\n",
    "        super(BaseDNN1, self).__init__()\n",
    "        self.node_counts = node_counts\n",
    "        self.dropout_ratios = [0 for _ in range(len(self.node_counts))] if dropout_ratios is None else dropout_ratios\n",
    "        \n",
    "        self.activation = activation\n",
    "\n",
    "        for i in range(len(self.node_counts)):\n",
    "            n_nodes = self.node_counts[i]\n",
    "            dropout_ratio = self.dropout_ratios[i]\n",
    "            setattr(self, f'dense_{i}', layers.Dense(n_nodes, activation=self.activation))\n",
    "            # setattr(self, f'dropout_{i}', layers.Dropout(dropout_ratio))\n",
    "\n",
    "    def call(self, input_tensor):\n",
    "        x = input_tensor\n",
    "        for i in range(len(self.node_counts)):\n",
    "            x = getattr(self, f'dense_{i}')(x)\n",
    "            # x = getattr(self, f'dropout_{i}')(x)\n",
    "        return x\n",
    "\n",
    "\n",
    "class ConvolutionalLayers(tf.keras.Model):\n",
    "    def __init__(self, filters, kernel_sizes, activation='relu', strides=None, paddings=None):\n",
    "        super(ConvolutionalLayers, self).__init__()\n",
    "        self.filters = filters\n",
    "        self.kernels_sizes = kernel_sizes\n",
    "        self.activation = activation\n",
    "\n",
    "        if strides is None:\n",
    "            self.strides = []\n",
    "            for _ in range(len(filters)):\n",
    "                self.strides.append((1, 1))\n",
    "        else:\n",
    "            self.strides = strides\n",
    "\n",
    "        if paddings is None:\n",
    "            self.paddings = []\n",
    "            for _ in range(len(filters)):\n",
    "                self.paddings.append(\"valid\")\n",
    "        else:\n",
    "            self.paddings = paddings\n",
    "\n",
    "\n",
    "        for i in range(len(self.filters)):\n",
    "            n_filters = self.filters[i]\n",
    "            kernel_size = self.kernels_sizes[i]\n",
    "            stride = self.strides[i]\n",
    "            padding = self.paddings[i]\n",
    "\n",
    "            setattr(self, f'conv2d_{i}', layers.Conv2D(n_filters, kernel_size, strides=stride, padding=padding, activation=self.activation))\n",
    "\n",
    "    def call(self, input_tensor):\n",
    "        x = input_tensor\n",
    "        for i in range(len(self.filters)):\n",
    "            x = getattr(self, f'conv2d_{i}')(x)\n",
    "        return x"
   ]
  },
  {
   "cell_type": "code",
   "execution_count": 5,
   "metadata": {},
   "outputs": [],
   "source": [
    "loss_object = tf.keras.losses.SparseCategoricalCrossentropy(from_logits=True)\n",
    "optimizer = tf.keras.optimizers.Adam()"
   ]
  },
  {
   "cell_type": "code",
   "execution_count": 6,
   "metadata": {},
   "outputs": [],
   "source": [
    "train_loss = tf.keras.metrics.Mean(name='train_loss')\n",
    "train_accuracy = tf.keras.metrics.SparseCategoricalAccuracy(name='train_accuracy')\n",
    "\n",
    "test_loss = tf.keras.metrics.Mean(name='test_loss')\n",
    "test_accuracy = tf.keras.metrics.SparseCategoricalAccuracy(name='test_accuracy')"
   ]
  },
  {
   "cell_type": "code",
   "execution_count": 7,
   "metadata": {},
   "outputs": [],
   "source": [
    "@tf.function\n",
    "def train_step(model, images, labels, loss_object, optimizer, loss_calculation, accuracy_calculation):\n",
    "    with tf.GradientTape() as tape:\n",
    "        # training=True is only needed if there are layers with different\n",
    "        # behavior during training versus inference (e.g. Dropout).\n",
    "        predictions = model(images, training=True)\n",
    "        loss = loss_object(labels, predictions)\n",
    "    gradients = tape.gradient(loss, model.trainable_variables)\n",
    "    optimizer.apply_gradients(zip(gradients, model.trainable_variables))\n",
    "\n",
    "    train_loss(loss)\n",
    "    train_accuracy(labels, predictions)"
   ]
  },
  {
   "cell_type": "code",
   "execution_count": 8,
   "metadata": {},
   "outputs": [],
   "source": [
    "@tf.function\n",
    "def test_step(model, images, labels, loss_object, optimizer, loss_calculation, accuracy_calculation):\n",
    "    # training=False is only needed if there are layers with different\n",
    "    # behavior during training versus inference (e.g. Dropout).\n",
    "    predictions = model(images, training=False)\n",
    "    t_loss = loss_object(labels, predictions)\n",
    "\n",
    "    test_loss(t_loss)\n",
    "    test_accuracy(labels, predictions)"
   ]
  },
  {
   "cell_type": "code",
   "execution_count": 9,
   "metadata": {},
   "outputs": [
    {
     "name": "stdout",
     "output_type": "stream",
     "text": [
      "<class 'keras.engine.keras_tensor.KerasTensor'>\n",
      "(None, 21632)\n",
      "Epoch 1, Loss: 0.592026948928833, Accuracy: 76.69166564941406, Test Loss: 0.5264114141464233, Test Accuracy: 78.30999755859375\n",
      "Epoch 2, Loss: 0.5103000402450562, Accuracy: 78.64999389648438, Test Loss: 0.5175869464874268, Test Accuracy: 78.5199966430664\n"
     ]
    },
    {
     "ename": "KeyboardInterrupt",
     "evalue": "",
     "output_type": "error",
     "traceback": [
      "\u001b[0;31m---------------------------------------------------------------------------\u001b[0m",
      "\u001b[0;31mKeyboardInterrupt\u001b[0m                         Traceback (most recent call last)",
      "Cell \u001b[0;32mIn[9], line 24\u001b[0m\n\u001b[1;32m     21\u001b[0m test_accuracy\u001b[38;5;241m.\u001b[39mreset_states()\n\u001b[1;32m     23\u001b[0m \u001b[38;5;28;01mfor\u001b[39;00m images, labels \u001b[38;5;129;01min\u001b[39;00m train_ds:\n\u001b[0;32m---> 24\u001b[0m     \u001b[43mtrain_step\u001b[49m\u001b[43m(\u001b[49m\u001b[43mmodel\u001b[49m\u001b[43m,\u001b[49m\u001b[43m \u001b[49m\u001b[43mimages\u001b[49m\u001b[43m,\u001b[49m\u001b[43m \u001b[49m\u001b[43mlabels\u001b[49m\u001b[43m,\u001b[49m\u001b[43m \u001b[49m\u001b[43mloss_object\u001b[49m\u001b[43m,\u001b[49m\u001b[43m \u001b[49m\u001b[43moptimizer\u001b[49m\u001b[43m,\u001b[49m\u001b[43m \u001b[49m\u001b[43mtrain_loss\u001b[49m\u001b[43m,\u001b[49m\u001b[43m \u001b[49m\u001b[43mtrain_accuracy\u001b[49m\u001b[43m)\u001b[49m\n\u001b[1;32m     26\u001b[0m \u001b[38;5;28;01mfor\u001b[39;00m test_images, test_labels \u001b[38;5;129;01min\u001b[39;00m test_ds:\n\u001b[1;32m     27\u001b[0m     test_step(model, test_images, test_labels, loss_object, optimizer, test_loss, test_accuracy)\n",
      "File \u001b[0;32m~/Projects/alzheimers_diagnosis_sinai/venv/lib/python3.8/site-packages/tensorflow/python/util/traceback_utils.py:150\u001b[0m, in \u001b[0;36mfilter_traceback.<locals>.error_handler\u001b[0;34m(*args, **kwargs)\u001b[0m\n\u001b[1;32m    148\u001b[0m filtered_tb \u001b[39m=\u001b[39m \u001b[39mNone\u001b[39;00m\n\u001b[1;32m    149\u001b[0m \u001b[39mtry\u001b[39;00m:\n\u001b[0;32m--> 150\u001b[0m   \u001b[39mreturn\u001b[39;00m fn(\u001b[39m*\u001b[39;49margs, \u001b[39m*\u001b[39;49m\u001b[39m*\u001b[39;49mkwargs)\n\u001b[1;32m    151\u001b[0m \u001b[39mexcept\u001b[39;00m \u001b[39mException\u001b[39;00m \u001b[39mas\u001b[39;00m e:\n\u001b[1;32m    152\u001b[0m   filtered_tb \u001b[39m=\u001b[39m _process_traceback_frames(e\u001b[39m.\u001b[39m__traceback__)\n",
      "File \u001b[0;32m~/Projects/alzheimers_diagnosis_sinai/venv/lib/python3.8/site-packages/tensorflow/python/eager/def_function.py:915\u001b[0m, in \u001b[0;36mFunction.__call__\u001b[0;34m(self, *args, **kwds)\u001b[0m\n\u001b[1;32m    912\u001b[0m compiler \u001b[39m=\u001b[39m \u001b[39m\"\u001b[39m\u001b[39mxla\u001b[39m\u001b[39m\"\u001b[39m \u001b[39mif\u001b[39;00m \u001b[39mself\u001b[39m\u001b[39m.\u001b[39m_jit_compile \u001b[39melse\u001b[39;00m \u001b[39m\"\u001b[39m\u001b[39mnonXla\u001b[39m\u001b[39m\"\u001b[39m\n\u001b[1;32m    914\u001b[0m \u001b[39mwith\u001b[39;00m OptionalXlaContext(\u001b[39mself\u001b[39m\u001b[39m.\u001b[39m_jit_compile):\n\u001b[0;32m--> 915\u001b[0m   result \u001b[39m=\u001b[39m \u001b[39mself\u001b[39;49m\u001b[39m.\u001b[39;49m_call(\u001b[39m*\u001b[39;49margs, \u001b[39m*\u001b[39;49m\u001b[39m*\u001b[39;49mkwds)\n\u001b[1;32m    917\u001b[0m new_tracing_count \u001b[39m=\u001b[39m \u001b[39mself\u001b[39m\u001b[39m.\u001b[39mexperimental_get_tracing_count()\n\u001b[1;32m    918\u001b[0m without_tracing \u001b[39m=\u001b[39m (tracing_count \u001b[39m==\u001b[39m new_tracing_count)\n",
      "File \u001b[0;32m~/Projects/alzheimers_diagnosis_sinai/venv/lib/python3.8/site-packages/tensorflow/python/eager/def_function.py:947\u001b[0m, in \u001b[0;36mFunction._call\u001b[0;34m(self, *args, **kwds)\u001b[0m\n\u001b[1;32m    944\u001b[0m   \u001b[39mself\u001b[39m\u001b[39m.\u001b[39m_lock\u001b[39m.\u001b[39mrelease()\n\u001b[1;32m    945\u001b[0m   \u001b[39m# In this case we have created variables on the first call, so we run the\u001b[39;00m\n\u001b[1;32m    946\u001b[0m   \u001b[39m# defunned version which is guaranteed to never create variables.\u001b[39;00m\n\u001b[0;32m--> 947\u001b[0m   \u001b[39mreturn\u001b[39;00m \u001b[39mself\u001b[39;49m\u001b[39m.\u001b[39;49m_stateless_fn(\u001b[39m*\u001b[39;49margs, \u001b[39m*\u001b[39;49m\u001b[39m*\u001b[39;49mkwds)  \u001b[39m# pylint: disable=not-callable\u001b[39;00m\n\u001b[1;32m    948\u001b[0m \u001b[39melif\u001b[39;00m \u001b[39mself\u001b[39m\u001b[39m.\u001b[39m_stateful_fn \u001b[39mis\u001b[39;00m \u001b[39mnot\u001b[39;00m \u001b[39mNone\u001b[39;00m:\n\u001b[1;32m    949\u001b[0m   \u001b[39m# Release the lock early so that multiple threads can perform the call\u001b[39;00m\n\u001b[1;32m    950\u001b[0m   \u001b[39m# in parallel.\u001b[39;00m\n\u001b[1;32m    951\u001b[0m   \u001b[39mself\u001b[39m\u001b[39m.\u001b[39m_lock\u001b[39m.\u001b[39mrelease()\n",
      "File \u001b[0;32m~/Projects/alzheimers_diagnosis_sinai/venv/lib/python3.8/site-packages/tensorflow/python/eager/function.py:2452\u001b[0m, in \u001b[0;36mFunction.__call__\u001b[0;34m(self, *args, **kwargs)\u001b[0m\n\u001b[1;32m   2449\u001b[0m \u001b[39m\"\"\"Calls a graph function specialized to the inputs.\"\"\"\u001b[39;00m\n\u001b[1;32m   2450\u001b[0m \u001b[39mwith\u001b[39;00m \u001b[39mself\u001b[39m\u001b[39m.\u001b[39m_lock:\n\u001b[1;32m   2451\u001b[0m   (graph_function,\n\u001b[0;32m-> 2452\u001b[0m    filtered_flat_args) \u001b[39m=\u001b[39m \u001b[39mself\u001b[39;49m\u001b[39m.\u001b[39;49m_maybe_define_function(args, kwargs)\n\u001b[1;32m   2453\u001b[0m \u001b[39mreturn\u001b[39;00m graph_function\u001b[39m.\u001b[39m_call_flat(\n\u001b[1;32m   2454\u001b[0m     filtered_flat_args, captured_inputs\u001b[39m=\u001b[39mgraph_function\u001b[39m.\u001b[39mcaptured_inputs)\n",
      "File \u001b[0;32m~/Projects/alzheimers_diagnosis_sinai/venv/lib/python3.8/site-packages/tensorflow/python/eager/function.py:2676\u001b[0m, in \u001b[0;36mFunction._maybe_define_function\u001b[0;34m(self, args, kwargs)\u001b[0m\n\u001b[1;32m   2673\u001b[0m   filtered_flat_args \u001b[39m=\u001b[39m []\n\u001b[1;32m   2675\u001b[0m \u001b[39mif\u001b[39;00m \u001b[39mself\u001b[39m\u001b[39m.\u001b[39minput_signature \u001b[39mis\u001b[39;00m \u001b[39mNone\u001b[39;00m:\n\u001b[0;32m-> 2676\u001b[0m   cache_key, cache_key_deletion_observer \u001b[39m=\u001b[39m function_context\u001b[39m.\u001b[39;49mmake_cache_key(\n\u001b[1;32m   2677\u001b[0m       (args, kwargs))\n\u001b[1;32m   2678\u001b[0m \u001b[39melse\u001b[39;00m:\n\u001b[1;32m   2679\u001b[0m   cache_key, cache_key_deletion_observer \u001b[39m=\u001b[39m function_context\u001b[39m.\u001b[39mmake_cache_key(\n\u001b[1;32m   2680\u001b[0m       \u001b[39mself\u001b[39m\u001b[39m.\u001b[39mflat_input_signature)\n",
      "File \u001b[0;32m~/Projects/alzheimers_diagnosis_sinai/venv/lib/python3.8/site-packages/tensorflow/python/eager/function_context.py:130\u001b[0m, in \u001b[0;36mmake_cache_key\u001b[0;34m(args, include_tensor_ranks_only)\u001b[0m\n\u001b[1;32m    127\u001b[0m \u001b[39m\"\"\"Computes the cache key given the function arguments.\"\"\"\u001b[39;00m\n\u001b[1;32m    128\u001b[0m signature_context \u001b[39m=\u001b[39m trace_type\u001b[39m.\u001b[39mSignatureContext(\n\u001b[1;32m    129\u001b[0m     include_tensor_ranks_only)\n\u001b[0;32m--> 130\u001b[0m function_signature \u001b[39m=\u001b[39m trace_type\u001b[39m.\u001b[39;49mmake_function_signature(\n\u001b[1;32m    131\u001b[0m     args, signature_context)\n\u001b[1;32m    132\u001b[0m \u001b[39mreturn\u001b[39;00m function_cache\u001b[39m.\u001b[39mFunctionCacheKey(\n\u001b[1;32m    133\u001b[0m     function_signature,\n\u001b[1;32m    134\u001b[0m     make_function_context()), signature_context\u001b[39m.\u001b[39mdeletion_observer\n",
      "File \u001b[0;32m~/Projects/alzheimers_diagnosis_sinai/venv/lib/python3.8/site-packages/tensorflow/core/function/trace_type/signature_builder.py:154\u001b[0m, in \u001b[0;36mmake_function_signature\u001b[0;34m(function_args, signature_context)\u001b[0m\n\u001b[1;32m    142\u001b[0m \u001b[39mdef\u001b[39;00m \u001b[39mmake_function_signature\u001b[39m(\n\u001b[1;32m    143\u001b[0m     function_args,\n\u001b[1;32m    144\u001b[0m     signature_context: SignatureContext) \u001b[39m-\u001b[39m\u001b[39m>\u001b[39m trace\u001b[39m.\u001b[39mTraceType:\n\u001b[1;32m    145\u001b[0m   \u001b[39m\"\"\"Returns the trace type specification of a function's arguments.\u001b[39;00m\n\u001b[1;32m    146\u001b[0m \n\u001b[1;32m    147\u001b[0m \u001b[39m  Args:\u001b[39;00m\n\u001b[0;32m   (...)\u001b[0m\n\u001b[1;32m    152\u001b[0m \u001b[39m    A TraceType object representing all the given inputs.\u001b[39;00m\n\u001b[1;32m    153\u001b[0m \u001b[39m  \"\"\"\u001b[39;00m\n\u001b[0;32m--> 154\u001b[0m   \u001b[39mreturn\u001b[39;00m create_trace_type(function_args, signature_context)\n",
      "File \u001b[0;32m~/Projects/alzheimers_diagnosis_sinai/venv/lib/python3.8/site-packages/tensorflow/core/function/trace_type/signature_builder.py:99\u001b[0m, in \u001b[0;36mcreate_trace_type\u001b[0;34m(obj, context)\u001b[0m\n\u001b[1;32m     87\u001b[0m \u001b[39mdef\u001b[39;00m \u001b[39mcreate_trace_type\u001b[39m(obj: Any,\n\u001b[1;32m     88\u001b[0m                       context: SignatureContext) \u001b[39m-\u001b[39m\u001b[39m>\u001b[39m trace\u001b[39m.\u001b[39mTraceType:\n\u001b[1;32m     89\u001b[0m   \u001b[39m\"\"\"Returns a TraceType corresponding to the object based on the context.\u001b[39;00m\n\u001b[1;32m     90\u001b[0m \n\u001b[1;32m     91\u001b[0m \u001b[39m  Args:\u001b[39;00m\n\u001b[0;32m   (...)\u001b[0m\n\u001b[1;32m     96\u001b[0m \u001b[39m    A TraceType object representing the given object.\u001b[39;00m\n\u001b[1;32m     97\u001b[0m \u001b[39m  \"\"\"\u001b[39;00m\n\u001b[0;32m---> 99\u001b[0m   \u001b[39mif\u001b[39;00m \u001b[39misinstance\u001b[39;49m(obj, trace\u001b[39m.\u001b[39;49mSupportsTracingProtocol):\n\u001b[1;32m    100\u001b[0m     \u001b[39mreturn\u001b[39;00m obj\u001b[39m.\u001b[39m__tf_tracing_type__(context)\n\u001b[1;32m    102\u001b[0m   \u001b[39mif\u001b[39;00m \u001b[39misinstance\u001b[39m(obj, \u001b[39mlist\u001b[39m):\n",
      "File \u001b[0;32m/usr/lib/python3.8/typing.py:1013\u001b[0m, in \u001b[0;36m_ProtocolMeta.__instancecheck__\u001b[0;34m(cls, instance)\u001b[0m\n\u001b[1;32m   1009\u001b[0m \u001b[39mdef\u001b[39;00m \u001b[39m__instancecheck__\u001b[39m(\u001b[39mcls\u001b[39m, instance):\n\u001b[1;32m   1010\u001b[0m     \u001b[39m# We need this method for situations where attributes are\u001b[39;00m\n\u001b[1;32m   1011\u001b[0m     \u001b[39m# assigned in __init__.\u001b[39;00m\n\u001b[1;32m   1012\u001b[0m     \u001b[39mif\u001b[39;00m ((\u001b[39mnot\u001b[39;00m \u001b[39mgetattr\u001b[39m(\u001b[39mcls\u001b[39m, \u001b[39m'\u001b[39m\u001b[39m_is_protocol\u001b[39m\u001b[39m'\u001b[39m, \u001b[39mFalse\u001b[39;00m) \u001b[39mor\u001b[39;00m\n\u001b[0;32m-> 1013\u001b[0m             _is_callable_members_only(\u001b[39mcls\u001b[39;49m)) \u001b[39mand\u001b[39;00m\n\u001b[1;32m   1014\u001b[0m             \u001b[39missubclass\u001b[39m(instance\u001b[39m.\u001b[39m\u001b[39m__class__\u001b[39m, \u001b[39mcls\u001b[39m)):\n\u001b[1;32m   1015\u001b[0m         \u001b[39mreturn\u001b[39;00m \u001b[39mTrue\u001b[39;00m\n\u001b[1;32m   1016\u001b[0m     \u001b[39mif\u001b[39;00m \u001b[39mcls\u001b[39m\u001b[39m.\u001b[39m_is_protocol:\n",
      "File \u001b[0;32m/usr/lib/python3.8/typing.py:977\u001b[0m, in \u001b[0;36m_is_callable_members_only\u001b[0;34m(cls)\u001b[0m\n\u001b[1;32m    975\u001b[0m \u001b[39mdef\u001b[39;00m \u001b[39m_is_callable_members_only\u001b[39m(\u001b[39mcls\u001b[39m):\n\u001b[1;32m    976\u001b[0m     \u001b[39m# PEP 544 prohibits using issubclass() with protocols that have non-method members.\u001b[39;00m\n\u001b[0;32m--> 977\u001b[0m     \u001b[39mreturn\u001b[39;00m \u001b[39mall\u001b[39m(callable(\u001b[39mgetattr\u001b[39m(\u001b[39mcls\u001b[39m, attr, \u001b[39mNone\u001b[39;00m)) \u001b[39mfor\u001b[39;00m attr \u001b[39min\u001b[39;00m _get_protocol_attrs(\u001b[39mcls\u001b[39;49m))\n",
      "File \u001b[0;32m/usr/lib/python3.8/typing.py:969\u001b[0m, in \u001b[0;36m_get_protocol_attrs\u001b[0;34m(cls)\u001b[0m\n\u001b[1;32m    967\u001b[0m     \u001b[39mcontinue\u001b[39;00m\n\u001b[1;32m    968\u001b[0m annotations \u001b[39m=\u001b[39m \u001b[39mgetattr\u001b[39m(base, \u001b[39m'\u001b[39m\u001b[39m__annotations__\u001b[39m\u001b[39m'\u001b[39m, {})\n\u001b[0;32m--> 969\u001b[0m \u001b[39mfor\u001b[39;00m attr \u001b[39min\u001b[39;00m \u001b[39mlist\u001b[39;49m(base\u001b[39m.\u001b[39;49m\u001b[39m__dict__\u001b[39;49m\u001b[39m.\u001b[39;49mkeys()) \u001b[39m+\u001b[39m \u001b[39mlist\u001b[39m(annotations\u001b[39m.\u001b[39mkeys()):\n\u001b[1;32m    970\u001b[0m     \u001b[39mif\u001b[39;00m \u001b[39mnot\u001b[39;00m attr\u001b[39m.\u001b[39mstartswith(\u001b[39m'\u001b[39m\u001b[39m_abc_\u001b[39m\u001b[39m'\u001b[39m) \u001b[39mand\u001b[39;00m attr \u001b[39mnot\u001b[39;00m \u001b[39min\u001b[39;00m EXCLUDED_ATTRIBUTES:\n\u001b[1;32m    971\u001b[0m         attrs\u001b[39m.\u001b[39madd(attr)\n",
      "\u001b[0;31mKeyboardInterrupt\u001b[0m: "
     ]
    }
   ],
   "source": [
    "EPOCHS = 5\n",
    "\n",
    "# \"\"\"\n",
    "model_inputs = layers.Input(shape=(28, 28, 1), name=\"input_layer\")\n",
    "x = layers.Conv2D(32, 3, activation='relu')(model_inputs)\n",
    "x = layers.Flatten()(x)\n",
    "x = BaseDNN1([128, 10])(x)\n",
    "print(type(x))\n",
    "\n",
    "model = tf.keras.Model(inputs=model_inputs, outputs=x)\n",
    "# \"\"\"\n",
    "\n",
    "print(model.layers[2].output_shape)\n",
    "# model = tf.keras.Sequential([])\n",
    "\n",
    "for epoch in range(EPOCHS):\n",
    "    # Reset the metrics at the start of the next epoch\n",
    "    train_loss.reset_states()\n",
    "    train_accuracy.reset_states()\n",
    "    test_loss.reset_states()\n",
    "    test_accuracy.reset_states()\n",
    "\n",
    "    for images, labels in train_ds:\n",
    "        train_step(model, images, labels, loss_object, optimizer, train_loss, train_accuracy)\n",
    "\n",
    "    for test_images, test_labels in test_ds:\n",
    "        test_step(model, test_images, test_labels, loss_object, optimizer, test_loss, test_accuracy)\n",
    "\n",
    "    print(\n",
    "        f'Epoch {epoch + 1}, '\n",
    "        f'Loss: {train_loss.result()}, '\n",
    "        f'Accuracy: {train_accuracy.result() * 100}, '\n",
    "        f'Test Loss: {test_loss.result()}, '\n",
    "        f'Test Accuracy: {test_accuracy.result() * 100}'\n",
    "    )\n"
   ]
  },
  {
   "cell_type": "code",
   "execution_count": 10,
   "metadata": {},
   "outputs": [
    {
     "name": "stdout",
     "output_type": "stream",
     "text": [
      "Model: \"model\"\n",
      "_________________________________________________________________\n",
      " Layer (type)                Output Shape              Param #   \n",
      "=================================================================\n",
      " input_layer (InputLayer)    [(None, 28, 28, 1)]       0         \n",
      "                                                                 \n",
      " conv2d (Conv2D)             (None, 26, 26, 32)        320       \n",
      "                                                                 \n",
      " flatten (Flatten)           (None, 21632)             0         \n",
      "                                                                 \n",
      " base_dnn1 (BaseDNN1)        (None, 10)                2770314   \n",
      "                                                                 \n",
      "=================================================================\n",
      "Total params: 2,770,634\n",
      "Trainable params: 2,770,634\n",
      "Non-trainable params: 0\n",
      "_________________________________________________________________\n"
     ]
    }
   ],
   "source": [
    "model.summary()"
   ]
  },
  {
   "cell_type": "code",
   "execution_count": 11,
   "metadata": {},
   "outputs": [
    {
     "data": {
      "text/plain": [
       "[<keras.layers.convolutional.conv2d.Conv2D at 0x7f94285ff4c0>,\n",
       " <keras.layers.reshaping.flatten.Flatten at 0x7f94285ff250>,\n",
       " <keras.layers.core.dense.Dense at 0x7f936832bbe0>,\n",
       " <keras.layers.core.dense.Dense at 0x7f936832bcd0>]"
      ]
     },
     "execution_count": 11,
     "metadata": {},
     "output_type": "execute_result"
    }
   ],
   "source": [
    "model.layers"
   ]
  }
 ],
 "metadata": {
  "kernelspec": {
   "display_name": "venv",
   "language": "python",
   "name": "python3"
  },
  "language_info": {
   "codemirror_mode": {
    "name": "ipython",
    "version": 3
   },
   "file_extension": ".py",
   "mimetype": "text/x-python",
   "name": "python",
   "nbconvert_exporter": "python",
   "pygments_lexer": "ipython3",
   "version": "3.9.9 (tags/v3.9.9:ccb0e6a, Nov 15 2021, 18:08:50) [MSC v.1929 64 bit (AMD64)]"
  },
  "orig_nbformat": 4,
  "vscode": {
   "interpreter": {
    "hash": "772e58729639664bc7c39167d4bac503b22bfc07fa21a50b41389124601dcd2b"
   }
  }
 },
 "nbformat": 4,
 "nbformat_minor": 2
}
