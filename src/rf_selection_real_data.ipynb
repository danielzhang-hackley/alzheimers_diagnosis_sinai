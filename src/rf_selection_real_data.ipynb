{
 "cells": [
  {
   "cell_type": "code",
   "execution_count": 19,
   "metadata": {},
   "outputs": [],
   "source": [
    "import tensorflow as tf\n",
    "from tensorflow.keras import layers\n",
    "\n",
    "from sklearn.feature_selection import SelectFromModel\n",
    "from sklearn.model_selection import train_test_split\n",
    "from sklearn.ensemble import RandomForestClassifier\n",
    "from sklearn.preprocessing import LabelEncoder, StandardScaler\n",
    "\n",
    "import pandas as pd\n",
    "import numpy as np"
   ]
  },
  {
   "cell_type": "code",
   "execution_count": 20,
   "metadata": {},
   "outputs": [],
   "source": [
    "label_encoder = LabelEncoder()\n",
    "standard_scaler = StandardScaler()"
   ]
  },
  {
   "cell_type": "code",
   "execution_count": 21,
   "metadata": {},
   "outputs": [],
   "source": [
    "X = pd.read_csv(r'../data/X_expr.csv').drop(['Unnamed: 0', 'seqLibID'], axis=1).values\n",
    "y = pd.read_csv(r'../data/y_cog.csv').drop(['Unnamed: 0', 'seqLibID'], axis=1).values\n",
    "y = label_encoder.fit_transform(y.ravel())  "
   ]
  },
  {
   "cell_type": "code",
   "execution_count": 22,
   "metadata": {},
   "outputs": [
    {
     "data": {
      "text/plain": [
       "array(['AD', 'MildCognitiveImpairment', 'NoCognitiveImpairment'],\n",
       "      dtype=object)"
      ]
     },
     "execution_count": 22,
     "metadata": {},
     "output_type": "execute_result"
    }
   ],
   "source": [
    "label_encoder.classes_"
   ]
  },
  {
   "cell_type": "code",
   "execution_count": 23,
   "metadata": {},
   "outputs": [],
   "source": [
    "X_train, X_test, y_train, y_test = train_test_split(X, y, test_size=0.15, random_state=42, stratify=y)\n",
    "\n",
    "X_train = standard_scaler.fit_transform(X_train, y_train)\n",
    "X_test = standard_scaler.transform(X_test)"
   ]
  },
  {
   "attachments": {},
   "cell_type": "markdown",
   "metadata": {},
   "source": [
    "#### Create SelectFromModel object and select features"
   ]
  },
  {
   "cell_type": "code",
   "execution_count": 24,
   "metadata": {},
   "outputs": [],
   "source": [
    "sel = SelectFromModel(RandomForestClassifier(n_estimators=400))\n",
    "sel.fit(X_train, y_train)\n",
    "sel.get_support()\n",
    "\n",
    "sel_feat_bool_idx = sel.get_support()"
   ]
  },
  {
   "cell_type": "code",
   "execution_count": 25,
   "metadata": {},
   "outputs": [],
   "source": [
    "n_features = int(np.sum(sel_feat_bool_idx))"
   ]
  },
  {
   "cell_type": "code",
   "execution_count": 26,
   "metadata": {},
   "outputs": [],
   "source": [
    "X_train_sel = X_train[:, sel_feat_bool_idx]\n",
    "X_test_sel = X_test[:, sel_feat_bool_idx]\n",
    "\n",
    "train_ds = tf.data.Dataset.from_tensor_slices(\n",
    "    (X_train_sel, y_train)\n",
    ").shuffle(10000).batch(100)\n",
    "\n",
    "test_ds = tf.data.Dataset.from_tensor_slices((X_test_sel, y_test)).batch(32)"
   ]
  },
  {
   "attachments": {},
   "cell_type": "markdown",
   "metadata": {},
   "source": [
    "#### Classifier definition"
   ]
  },
  {
   "cell_type": "code",
   "execution_count": 27,
   "metadata": {},
   "outputs": [],
   "source": [
    "def get_nn_decoder(latent_shape, layer_sizes, activation='relu', \n",
    "                   kernel_regularizer=tf.keras.regularizers.l1_l2, regularization_weight=0.058, dropout_rates=None):\n",
    "    # dense, dropout, dense, dropout, dense\n",
    "\n",
    "    input_layer = layers.Input(shape=latent_shape)\n",
    "\n",
    "    x = layers.Dense(layer_sizes[0], activation=activation, \n",
    "                     kernel_regularizer=kernel_regularizer(regularization_weight))(input_layer)\n",
    "\n",
    "    for i, n_nodes in enumerate(layer_sizes[1: ], 1):\n",
    "        if dropout_rates is not None:\n",
    "            x = layers.Dropout(dropout_rates[i - 1])(x)\n",
    "\n",
    "        if i == len(layer_sizes) - 1:\n",
    "            x = layers.Dense(n_nodes, activation=tf.keras.activations.softmax)(x)\n",
    "        else:\n",
    "            x = layers.Dense(n_nodes, activation=activation, kernel_regularizer=kernel_regularizer(regularization_weight))(x)  \n",
    "\n",
    "    model = tf.keras.Model(inputs=input_layer, outputs=x)\n",
    "    return model"
   ]
  },
  {
   "attachments": {},
   "cell_type": "markdown",
   "metadata": {},
   "source": [
    "#### Classifier initialization"
   ]
  },
  {
   "cell_type": "code",
   "execution_count": 28,
   "metadata": {},
   "outputs": [],
   "source": [
    "classifier = get_nn_decoder((n_features), [500, 500, 100, 3], dropout_rates=[0.75, 0.5, 0.5, 0.1])\n",
    "optimizer = tf.keras.optimizers.Adam()"
   ]
  },
  {
   "attachments": {},
   "cell_type": "markdown",
   "metadata": {},
   "source": [
    "#### Train classifier"
   ]
  },
  {
   "cell_type": "code",
   "execution_count": 29,
   "metadata": {},
   "outputs": [],
   "source": [
    "loss_object_sparse = tf.keras.losses.SparseCategoricalCrossentropy(from_logits=False)\n",
    "\n",
    "train_loss = tf.keras.metrics.Mean(name='train_loss')\n",
    "train_accuracy_sparse = tf.keras.metrics.SparseCategoricalAccuracy(name='train_accuracy')\n",
    "\n",
    "test_loss = tf.keras.metrics.Mean(name='test_loss')\n",
    "test_accuracy_sparse = tf.keras.metrics.SparseCategoricalAccuracy(name='test_accuracy')\n",
    "\n",
    "\n",
    "@tf.function\n",
    "def train_step_nn(data, labels):\n",
    "    with tf.GradientTape() as tape:\n",
    "        predictions = classifier(data, training=True)\n",
    "        loss = loss_object_sparse(labels, predictions)\n",
    "    gradients = tape.gradient(loss, classifier.trainable_variables)\n",
    "    optimizer.apply_gradients(zip(gradients, classifier.trainable_variables))\n",
    "\n",
    "    train_loss(loss)\n",
    "    train_accuracy_sparse(labels, predictions)\n",
    "\n",
    "\n",
    "@tf.function\n",
    "def test_step_nn(data, labels):\n",
    "    predictions = classifier(data, training=False)\n",
    "    t_loss = loss_object_sparse(labels, predictions)\n",
    "\n",
    "    test_loss(t_loss)\n",
    "    test_accuracy_sparse(labels, predictions)"
   ]
  },
  {
   "cell_type": "code",
   "execution_count": 30,
   "metadata": {},
   "outputs": [
    {
     "name": "stdout",
     "output_type": "stream",
     "text": [
      "Epoch 1, Loss: 3.4213743209838867, Accuracy: 29.032257080078125, Test Loss: 1.4720094203948975, Test Accuracy: 40.90909194946289\n",
      "Epoch 2, Loss: 3.2875616550445557, Accuracy: 35.48387145996094, Test Loss: 1.5032718181610107, Test Accuracy: 43.181819915771484\n",
      "Epoch 3, Loss: 3.0453665256500244, Accuracy: 43.14516067504883, Test Loss: 1.21458101272583, Test Accuracy: 47.727272033691406\n",
      "Epoch 4, Loss: 2.781614303588867, Accuracy: 39.91935729980469, Test Loss: 1.2010416984558105, Test Accuracy: 43.181819915771484\n",
      "Epoch 5, Loss: 2.6843996047973633, Accuracy: 40.32258224487305, Test Loss: 1.1793212890625, Test Accuracy: 34.09090805053711\n",
      "Epoch 6, Loss: 3.020679473876953, Accuracy: 41.935482025146484, Test Loss: 1.1369210481643677, Test Accuracy: 27.272727966308594\n",
      "Epoch 7, Loss: 2.0471174716949463, Accuracy: 44.75806427001953, Test Loss: 1.121247410774231, Test Accuracy: 34.09090805053711\n",
      "Epoch 8, Loss: 1.938887119293213, Accuracy: 46.774192810058594, Test Loss: 1.1036217212677002, Test Accuracy: 38.6363639831543\n",
      "Epoch 9, Loss: 2.3346757888793945, Accuracy: 44.35483932495117, Test Loss: 1.0974888801574707, Test Accuracy: 45.45454788208008\n",
      "Epoch 10, Loss: 1.9095758199691772, Accuracy: 45.564517974853516, Test Loss: 1.1035535335540771, Test Accuracy: 45.45454788208008\n",
      "Epoch 11, Loss: 2.031533718109131, Accuracy: 46.370967864990234, Test Loss: 1.1038246154785156, Test Accuracy: 38.6363639831543\n",
      "Epoch 12, Loss: 1.717045783996582, Accuracy: 46.370967864990234, Test Loss: 1.102278470993042, Test Accuracy: 34.09090805053711\n",
      "Epoch 13, Loss: 1.7717176675796509, Accuracy: 45.564517974853516, Test Loss: 1.087929368019104, Test Accuracy: 36.3636360168457\n",
      "Epoch 14, Loss: 1.9174131155014038, Accuracy: 45.564517974853516, Test Loss: 1.0836806297302246, Test Accuracy: 38.6363639831543\n",
      "Epoch 15, Loss: 1.7054136991500854, Accuracy: 47.58064270019531, Test Loss: 1.089219570159912, Test Accuracy: 40.90909194946289\n",
      "Epoch 16, Loss: 1.6719948053359985, Accuracy: 45.16128921508789, Test Loss: 1.1038801670074463, Test Accuracy: 45.45454788208008\n",
      "Epoch 17, Loss: 1.1999622583389282, Accuracy: 49.59677505493164, Test Loss: 1.1197693347930908, Test Accuracy: 43.181819915771484\n",
      "Epoch 18, Loss: 1.4070769548416138, Accuracy: 53.62903594970703, Test Loss: 1.135807991027832, Test Accuracy: 43.181819915771484\n",
      "Epoch 19, Loss: 1.5907665491104126, Accuracy: 47.98387145996094, Test Loss: 1.1426759958267212, Test Accuracy: 40.90909194946289\n",
      "Epoch 20, Loss: 1.358075499534607, Accuracy: 49.19355010986328, Test Loss: 1.1365463733673096, Test Accuracy: 45.45454788208008\n",
      "Epoch 21, Loss: 1.3935080766677856, Accuracy: 51.20967483520508, Test Loss: 1.129673957824707, Test Accuracy: 50.0\n",
      "Epoch 22, Loss: 1.3198237419128418, Accuracy: 54.43548583984375, Test Loss: 1.120311975479126, Test Accuracy: 47.727272033691406\n",
      "Epoch 23, Loss: 1.2346211671829224, Accuracy: 58.87096405029297, Test Loss: 1.1114299297332764, Test Accuracy: 47.727272033691406\n",
      "Epoch 24, Loss: 1.1778686046600342, Accuracy: 51.20967483520508, Test Loss: 1.1073545217514038, Test Accuracy: 45.45454788208008\n",
      "Epoch 25, Loss: 1.1424593925476074, Accuracy: 52.01612854003906, Test Loss: 1.1073033809661865, Test Accuracy: 45.45454788208008\n",
      "Epoch 26, Loss: 1.131122350692749, Accuracy: 55.24193572998047, Test Loss: 1.1088402271270752, Test Accuracy: 40.90909194946289\n",
      "Epoch 27, Loss: 1.2165473699569702, Accuracy: 52.41935348510742, Test Loss: 1.1098523139953613, Test Accuracy: 38.6363639831543\n",
      "Epoch 28, Loss: 0.9404773116111755, Accuracy: 60.88710021972656, Test Loss: 1.1108485460281372, Test Accuracy: 36.3636360168457\n",
      "Epoch 29, Loss: 1.1214486360549927, Accuracy: 52.82257843017578, Test Loss: 1.1122698783874512, Test Accuracy: 40.90909194946289\n",
      "Epoch 30, Loss: 0.9508631825447083, Accuracy: 60.08064651489258, Test Loss: 1.1149791479110718, Test Accuracy: 40.90909194946289\n",
      "Epoch 31, Loss: 0.9225569367408752, Accuracy: 62.90322494506836, Test Loss: 1.1144909858703613, Test Accuracy: 38.6363639831543\n",
      "Epoch 32, Loss: 0.9603803157806396, Accuracy: 58.46773910522461, Test Loss: 1.1131397485733032, Test Accuracy: 40.90909194946289\n",
      "Epoch 33, Loss: 0.8263278007507324, Accuracy: 63.30644989013672, Test Loss: 1.109764814376831, Test Accuracy: 43.181819915771484\n",
      "Epoch 34, Loss: 1.0166987180709839, Accuracy: 60.88710021972656, Test Loss: 1.1114091873168945, Test Accuracy: 40.90909194946289\n",
      "Epoch 35, Loss: 0.9149625897407532, Accuracy: 66.12903594970703, Test Loss: 1.1117842197418213, Test Accuracy: 34.09090805053711\n",
      "Epoch 36, Loss: 0.8541787266731262, Accuracy: 62.90322494506836, Test Loss: 1.1119465827941895, Test Accuracy: 38.6363639831543\n",
      "Epoch 37, Loss: 0.9137471318244934, Accuracy: 65.7258071899414, Test Loss: 1.1135036945343018, Test Accuracy: 38.6363639831543\n",
      "Epoch 38, Loss: 0.8747599124908447, Accuracy: 64.11289978027344, Test Loss: 1.1134779453277588, Test Accuracy: 40.90909194946289\n",
      "Epoch 39, Loss: 0.8026279807090759, Accuracy: 68.95161437988281, Test Loss: 1.1139495372772217, Test Accuracy: 40.90909194946289\n",
      "Epoch 40, Loss: 0.7258815765380859, Accuracy: 68.54838562011719, Test Loss: 1.114781379699707, Test Accuracy: 43.181819915771484\n",
      "Epoch 41, Loss: 0.8524131774902344, Accuracy: 64.11289978027344, Test Loss: 1.1169334650039673, Test Accuracy: 45.45454788208008\n",
      "Epoch 42, Loss: 0.7430885434150696, Accuracy: 71.7741928100586, Test Loss: 1.1174182891845703, Test Accuracy: 45.45454788208008\n",
      "Epoch 43, Loss: 0.6283347010612488, Accuracy: 71.37096405029297, Test Loss: 1.1176660060882568, Test Accuracy: 40.90909194946289\n",
      "Epoch 44, Loss: 0.6244085431098938, Accuracy: 74.19355010986328, Test Loss: 1.11832594871521, Test Accuracy: 38.6363639831543\n",
      "Epoch 45, Loss: 0.6927407383918762, Accuracy: 73.79032135009766, Test Loss: 1.1219561100006104, Test Accuracy: 36.3636360168457\n",
      "Epoch 46, Loss: 0.7514926791191101, Accuracy: 69.3548355102539, Test Loss: 1.1254518032073975, Test Accuracy: 40.90909194946289\n",
      "Epoch 47, Loss: 0.6885979771614075, Accuracy: 73.79032135009766, Test Loss: 1.1303284168243408, Test Accuracy: 38.6363639831543\n",
      "Epoch 48, Loss: 0.710143506526947, Accuracy: 74.19355010986328, Test Loss: 1.1308856010437012, Test Accuracy: 43.181819915771484\n",
      "Epoch 49, Loss: 0.5328400731086731, Accuracy: 77.82257843017578, Test Loss: 1.1301968097686768, Test Accuracy: 47.727272033691406\n",
      "Epoch 50, Loss: 0.5327299237251282, Accuracy: 80.6451644897461, Test Loss: 1.1304126977920532, Test Accuracy: 45.45454788208008\n",
      "Epoch 51, Loss: 0.4779583513736725, Accuracy: 81.45161437988281, Test Loss: 1.1415822505950928, Test Accuracy: 45.45454788208008\n",
      "Epoch 52, Loss: 0.618027925491333, Accuracy: 80.6451644897461, Test Loss: 1.1474813222885132, Test Accuracy: 47.727272033691406\n",
      "Epoch 53, Loss: 0.47268393635749817, Accuracy: 82.25806427001953, Test Loss: 1.146640658378601, Test Accuracy: 47.727272033691406\n",
      "Epoch 54, Loss: 0.5002468228340149, Accuracy: 83.46774291992188, Test Loss: 1.1513781547546387, Test Accuracy: 47.727272033691406\n",
      "Epoch 55, Loss: 0.4065692722797394, Accuracy: 83.87096405029297, Test Loss: 1.160724401473999, Test Accuracy: 40.90909194946289\n",
      "Epoch 56, Loss: 0.4009450376033783, Accuracy: 85.08065032958984, Test Loss: 1.1706302165985107, Test Accuracy: 38.6363639831543\n",
      "Epoch 57, Loss: 0.4080703556537628, Accuracy: 84.67742156982422, Test Loss: 1.1844918727874756, Test Accuracy: 34.09090805053711\n",
      "Epoch 58, Loss: 0.3634052574634552, Accuracy: 86.29032135009766, Test Loss: 1.206026315689087, Test Accuracy: 36.3636360168457\n",
      "Epoch 59, Loss: 0.3769984245300293, Accuracy: 86.29032135009766, Test Loss: 1.2226256132125854, Test Accuracy: 36.3636360168457\n",
      "Epoch 60, Loss: 0.2871260344982147, Accuracy: 88.30644989013672, Test Loss: 1.2363612651824951, Test Accuracy: 36.3636360168457\n",
      "Epoch 61, Loss: 0.3086763322353363, Accuracy: 87.90322875976562, Test Loss: 1.2533149719238281, Test Accuracy: 40.90909194946289\n",
      "Epoch 62, Loss: 0.3647710084915161, Accuracy: 89.11289978027344, Test Loss: 1.2644202709197998, Test Accuracy: 40.90909194946289\n",
      "Epoch 63, Loss: 0.44460752606391907, Accuracy: 81.45161437988281, Test Loss: 1.261688470840454, Test Accuracy: 38.6363639831543\n",
      "Epoch 64, Loss: 0.41069260239601135, Accuracy: 90.32257843017578, Test Loss: 1.2482123374938965, Test Accuracy: 38.6363639831543\n",
      "Epoch 65, Loss: 0.2678930461406708, Accuracy: 91.53225708007812, Test Loss: 1.2497456073760986, Test Accuracy: 43.181819915771484\n",
      "Epoch 66, Loss: 0.3366865813732147, Accuracy: 91.12903594970703, Test Loss: 1.2493410110473633, Test Accuracy: 43.181819915771484\n",
      "Epoch 67, Loss: 0.22112949192523956, Accuracy: 93.95161437988281, Test Loss: 1.2523390054702759, Test Accuracy: 45.45454788208008\n",
      "Epoch 68, Loss: 0.32679352164268494, Accuracy: 91.12903594970703, Test Loss: 1.2624478340148926, Test Accuracy: 47.727272033691406\n",
      "Epoch 69, Loss: 0.3300764262676239, Accuracy: 86.29032135009766, Test Loss: 1.265329360961914, Test Accuracy: 50.0\n",
      "Epoch 70, Loss: 0.20168225467205048, Accuracy: 94.3548355102539, Test Loss: 1.269587755203247, Test Accuracy: 43.181819915771484\n",
      "Epoch 71, Loss: 0.2665860950946808, Accuracy: 92.74193572998047, Test Loss: 1.2699881792068481, Test Accuracy: 40.90909194946289\n",
      "Epoch 72, Loss: 0.2092527151107788, Accuracy: 96.37096405029297, Test Loss: 1.2867448329925537, Test Accuracy: 40.90909194946289\n",
      "Epoch 73, Loss: 0.27874401211738586, Accuracy: 91.12903594970703, Test Loss: 1.314138650894165, Test Accuracy: 40.90909194946289\n",
      "Epoch 74, Loss: 0.14411278069019318, Accuracy: 94.75806427001953, Test Loss: 1.3460218906402588, Test Accuracy: 38.6363639831543\n",
      "Epoch 75, Loss: 0.21173004806041718, Accuracy: 94.75806427001953, Test Loss: 1.36239492893219, Test Accuracy: 40.90909194946289\n",
      "Epoch 76, Loss: 0.17792008817195892, Accuracy: 93.1451644897461, Test Loss: 1.3764762878417969, Test Accuracy: 40.90909194946289\n",
      "Epoch 77, Loss: 0.18057949841022491, Accuracy: 95.96774291992188, Test Loss: 1.398335576057434, Test Accuracy: 40.90909194946289\n",
      "Epoch 78, Loss: 0.18511731922626495, Accuracy: 94.75806427001953, Test Loss: 1.4250019788742065, Test Accuracy: 40.90909194946289\n",
      "Epoch 79, Loss: 0.13231363892555237, Accuracy: 94.75806427001953, Test Loss: 1.4607722759246826, Test Accuracy: 43.181819915771484\n",
      "Epoch 80, Loss: 0.13631828129291534, Accuracy: 94.75806427001953, Test Loss: 1.4857521057128906, Test Accuracy: 40.90909194946289\n",
      "Epoch 81, Loss: 0.13071201741695404, Accuracy: 94.75806427001953, Test Loss: 1.5004925727844238, Test Accuracy: 40.90909194946289\n",
      "Epoch 82, Loss: 0.06855892390012741, Accuracy: 97.17742156982422, Test Loss: 1.5264697074890137, Test Accuracy: 43.181819915771484\n",
      "Epoch 83, Loss: 0.29591742157936096, Accuracy: 93.54838562011719, Test Loss: 1.5676286220550537, Test Accuracy: 43.181819915771484\n",
      "Epoch 84, Loss: 0.18590079247951508, Accuracy: 95.56451416015625, Test Loss: 1.607267141342163, Test Accuracy: 43.181819915771484\n",
      "Epoch 85, Loss: 0.1156393513083458, Accuracy: 96.37096405029297, Test Loss: 1.6483263969421387, Test Accuracy: 40.90909194946289\n",
      "Epoch 86, Loss: 0.11201485246419907, Accuracy: 95.96774291992188, Test Loss: 1.6928006410598755, Test Accuracy: 36.3636360168457\n",
      "Epoch 87, Loss: 0.13904018700122833, Accuracy: 96.37096405029297, Test Loss: 1.6907418966293335, Test Accuracy: 36.3636360168457\n",
      "Epoch 88, Loss: 0.1874788999557495, Accuracy: 96.7741928100586, Test Loss: 1.6447761058807373, Test Accuracy: 34.09090805053711\n",
      "Epoch 89, Loss: 0.055373415350914, Accuracy: 98.38710021972656, Test Loss: 1.625185489654541, Test Accuracy: 36.3636360168457\n",
      "Epoch 90, Loss: 0.15555942058563232, Accuracy: 93.54838562011719, Test Loss: 1.6089351177215576, Test Accuracy: 38.6363639831543\n",
      "Epoch 91, Loss: 0.05504583939909935, Accuracy: 97.17742156982422, Test Loss: 1.6593456268310547, Test Accuracy: 34.09090805053711\n",
      "Epoch 92, Loss: 0.12355972081422806, Accuracy: 95.56451416015625, Test Loss: 1.7411384582519531, Test Accuracy: 34.09090805053711\n",
      "Epoch 93, Loss: 0.19338655471801758, Accuracy: 92.33871459960938, Test Loss: 1.7241969108581543, Test Accuracy: 36.3636360168457\n",
      "Epoch 94, Loss: 0.06400047987699509, Accuracy: 96.7741928100586, Test Loss: 1.6703319549560547, Test Accuracy: 36.3636360168457\n",
      "Epoch 95, Loss: 0.23103313148021698, Accuracy: 95.96774291992188, Test Loss: 1.6404755115509033, Test Accuracy: 36.3636360168457\n",
      "Epoch 96, Loss: 0.16805513203144073, Accuracy: 96.7741928100586, Test Loss: 1.639938235282898, Test Accuracy: 43.181819915771484\n",
      "Epoch 97, Loss: 0.12481310963630676, Accuracy: 96.37096405029297, Test Loss: 1.6935575008392334, Test Accuracy: 43.181819915771484\n",
      "Epoch 98, Loss: 0.04693036153912544, Accuracy: 97.98387145996094, Test Loss: 1.7242302894592285, Test Accuracy: 38.6363639831543\n",
      "Epoch 99, Loss: 0.1282176375389099, Accuracy: 96.7741928100586, Test Loss: 1.7103914022445679, Test Accuracy: 43.181819915771484\n",
      "Epoch 100, Loss: 0.09603997319936752, Accuracy: 97.17742156982422, Test Loss: 1.6883759498596191, Test Accuracy: 45.45454788208008\n"
     ]
    }
   ],
   "source": [
    "EPOCHS = 100\n",
    "\n",
    "for epoch in range(EPOCHS):\n",
    "    # Reset the metrics at the start of the next epoch\n",
    "    train_loss.reset_states()\n",
    "    train_accuracy_sparse.reset_states()\n",
    "    test_loss.reset_states()\n",
    "    test_accuracy_sparse.reset_states()\n",
    "\n",
    "    for data, labels in train_ds:\n",
    "        train_step_nn(data, labels)\n",
    "\n",
    "    for test_data, test_labels in test_ds:\n",
    "        test_step_nn(test_data, test_labels)\n",
    "\n",
    "    print(\n",
    "        f'Epoch {epoch + 1}, '\n",
    "        f'Loss: {train_loss.result()}, '\n",
    "        f'Accuracy: {train_accuracy_sparse.result() * 100}, '\n",
    "        f'Test Loss: {test_loss.result()}, '\n",
    "        f'Test Accuracy: {test_accuracy_sparse.result() * 100}'\n",
    "    )"
   ]
  },
  {
   "cell_type": "code",
   "execution_count": null,
   "metadata": {},
   "outputs": [],
   "source": []
  }
 ],
 "metadata": {
  "kernelspec": {
   "display_name": "venv",
   "language": "python",
   "name": "python3"
  },
  "language_info": {
   "codemirror_mode": {
    "name": "ipython",
    "version": 3
   },
   "file_extension": ".py",
   "mimetype": "text/x-python",
   "name": "python",
   "nbconvert_exporter": "python",
   "pygments_lexer": "ipython3",
   "version": "3.9.9 (tags/v3.9.9:ccb0e6a, Nov 15 2021, 18:08:50) [MSC v.1929 64 bit (AMD64)]"
  },
  "orig_nbformat": 4,
  "vscode": {
   "interpreter": {
    "hash": "772e58729639664bc7c39167d4bac503b22bfc07fa21a50b41389124601dcd2b"
   }
  }
 },
 "nbformat": 4,
 "nbformat_minor": 2
}
